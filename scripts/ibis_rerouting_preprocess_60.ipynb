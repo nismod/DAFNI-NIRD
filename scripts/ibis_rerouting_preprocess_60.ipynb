{
 "cells": [
  {
   "cell_type": "code",
   "execution_count": 2,
   "id": "8fd73c10-59e3-4a96-895d-42917fe58270",
   "metadata": {},
   "outputs": [],
   "source": [
    "import os\n",
    "from pathlib import Path\n",
    "\n",
    "import pandas as pd\n",
    "import json\n",
    "\n",
    "import ibis as ib\n",
    "from ibis import _"
   ]
  },
  {
   "cell_type": "code",
   "execution_count": 3,
   "id": "d6a4ae6c-a81e-4ecd-9a3c-991f6e28eb85",
   "metadata": {},
   "outputs": [],
   "source": [
    "ib.options.interactive = True"
   ]
  },
  {
   "cell_type": "code",
   "execution_count": 4,
   "id": "8933b46a-b098-41d5-89c2-6a9ebf2fefc6",
   "metadata": {},
   "outputs": [],
   "source": [
    "conn = ib.connect(\"duckdb://\", **{'memory_limit' : '150GB', 'threads' : 30})"
   ]
  },
  {
   "cell_type": "code",
   "execution_count": 5,
   "id": "4287d6a4-b10c-463f-9a7e-7fa730be506e",
   "metadata": {},
   "outputs": [
    {
     "data": {
      "text/html": [
       "<div>\n",
       "<style scoped>\n",
       "    .dataframe tbody tr th:only-of-type {\n",
       "        vertical-align: middle;\n",
       "    }\n",
       "\n",
       "    .dataframe tbody tr th {\n",
       "        vertical-align: top;\n",
       "    }\n",
       "\n",
       "    .dataframe thead th {\n",
       "        text-align: right;\n",
       "    }\n",
       "</style>\n",
       "<table border=\"1\" class=\"dataframe\">\n",
       "  <thead>\n",
       "    <tr style=\"text-align: right;\">\n",
       "      <th></th>\n",
       "      <th>name</th>\n",
       "      <th>value</th>\n",
       "      <th>description</th>\n",
       "      <th>input_type</th>\n",
       "      <th>scope</th>\n",
       "    </tr>\n",
       "  </thead>\n",
       "  <tbody>\n",
       "    <tr>\n",
       "      <th>0</th>\n",
       "      <td>access_mode</td>\n",
       "      <td>automatic</td>\n",
       "      <td>Access mode of the database (AUTOMATIC, READ_O...</td>\n",
       "      <td>VARCHAR</td>\n",
       "      <td>GLOBAL</td>\n",
       "    </tr>\n",
       "    <tr>\n",
       "      <th>1</th>\n",
       "      <td>allocator_background_threads</td>\n",
       "      <td>false</td>\n",
       "      <td>Whether to enable the allocator background thr...</td>\n",
       "      <td>BOOLEAN</td>\n",
       "      <td>GLOBAL</td>\n",
       "    </tr>\n",
       "    <tr>\n",
       "      <th>2</th>\n",
       "      <td>allocator_bulk_deallocation_flush_threshold</td>\n",
       "      <td>512.0 MiB</td>\n",
       "      <td>If a bulk deallocation larger than this occurs...</td>\n",
       "      <td>VARCHAR</td>\n",
       "      <td>GLOBAL</td>\n",
       "    </tr>\n",
       "    <tr>\n",
       "      <th>3</th>\n",
       "      <td>allocator_flush_threshold</td>\n",
       "      <td>128.0 MiB</td>\n",
       "      <td>Peak allocation threshold at which to flush th...</td>\n",
       "      <td>VARCHAR</td>\n",
       "      <td>GLOBAL</td>\n",
       "    </tr>\n",
       "    <tr>\n",
       "      <th>4</th>\n",
       "      <td>allow_community_extensions</td>\n",
       "      <td>true</td>\n",
       "      <td>Allow to load community built extensions</td>\n",
       "      <td>BOOLEAN</td>\n",
       "      <td>GLOBAL</td>\n",
       "    </tr>\n",
       "    <tr>\n",
       "      <th>...</th>\n",
       "      <td>...</td>\n",
       "      <td>...</td>\n",
       "      <td>...</td>\n",
       "      <td>...</td>\n",
       "      <td>...</td>\n",
       "    </tr>\n",
       "    <tr>\n",
       "      <th>124</th>\n",
       "      <td>python_scan_all_frames</td>\n",
       "      <td>false</td>\n",
       "      <td>If set, restores the old behavior of scanning ...</td>\n",
       "      <td>BOOLEAN</td>\n",
       "      <td>GLOBAL</td>\n",
       "    </tr>\n",
       "    <tr>\n",
       "      <th>125</th>\n",
       "      <td>TimeZone</td>\n",
       "      <td>UTC</td>\n",
       "      <td>The current time zone</td>\n",
       "      <td>VARCHAR</td>\n",
       "      <td>LOCAL</td>\n",
       "    </tr>\n",
       "    <tr>\n",
       "      <th>126</th>\n",
       "      <td>prefetch_all_parquet_files</td>\n",
       "      <td>false</td>\n",
       "      <td>Use the prefetching mechanism for all types of...</td>\n",
       "      <td>BOOLEAN</td>\n",
       "      <td>GLOBAL</td>\n",
       "    </tr>\n",
       "    <tr>\n",
       "      <th>127</th>\n",
       "      <td>python_enable_replacements</td>\n",
       "      <td>false</td>\n",
       "      <td>Whether variables visible to the current stack...</td>\n",
       "      <td>BOOLEAN</td>\n",
       "      <td>LOCAL</td>\n",
       "    </tr>\n",
       "    <tr>\n",
       "      <th>128</th>\n",
       "      <td>pandas_analyze_sample</td>\n",
       "      <td>1000</td>\n",
       "      <td>The maximum number of rows to sample when anal...</td>\n",
       "      <td>UBIGINT</td>\n",
       "      <td>GLOBAL</td>\n",
       "    </tr>\n",
       "  </tbody>\n",
       "</table>\n",
       "<p>129 rows × 5 columns</p>\n",
       "</div>"
      ],
      "text/plain": [
       "                                            name      value  \\\n",
       "0                                    access_mode  automatic   \n",
       "1                   allocator_background_threads      false   \n",
       "2    allocator_bulk_deallocation_flush_threshold  512.0 MiB   \n",
       "3                      allocator_flush_threshold  128.0 MiB   \n",
       "4                     allow_community_extensions       true   \n",
       "..                                           ...        ...   \n",
       "124                       python_scan_all_frames      false   \n",
       "125                                     TimeZone        UTC   \n",
       "126                   prefetch_all_parquet_files      false   \n",
       "127                   python_enable_replacements      false   \n",
       "128                        pandas_analyze_sample       1000   \n",
       "\n",
       "                                           description input_type   scope  \n",
       "0    Access mode of the database (AUTOMATIC, READ_O...    VARCHAR  GLOBAL  \n",
       "1    Whether to enable the allocator background thr...    BOOLEAN  GLOBAL  \n",
       "2    If a bulk deallocation larger than this occurs...    VARCHAR  GLOBAL  \n",
       "3    Peak allocation threshold at which to flush th...    VARCHAR  GLOBAL  \n",
       "4             Allow to load community built extensions    BOOLEAN  GLOBAL  \n",
       "..                                                 ...        ...     ...  \n",
       "124  If set, restores the old behavior of scanning ...    BOOLEAN  GLOBAL  \n",
       "125                              The current time zone    VARCHAR   LOCAL  \n",
       "126  Use the prefetching mechanism for all types of...    BOOLEAN  GLOBAL  \n",
       "127  Whether variables visible to the current stack...    BOOLEAN   LOCAL  \n",
       "128  The maximum number of rows to sample when anal...    UBIGINT  GLOBAL  \n",
       "\n",
       "[129 rows x 5 columns]"
      ]
     },
     "execution_count": 5,
     "metadata": {},
     "output_type": "execute_result"
    }
   ],
   "source": [
    "conn.sql(\"\"\"SELECT * FROM duckdb_settings();\"\"\").execute()"
   ]
  },
  {
   "cell_type": "code",
   "execution_count": 6,
   "id": "eb70bcb2-0253-4eef-9642-1a336f9fef3f",
   "metadata": {},
   "outputs": [
    {
     "data": {
      "text/html": [
       "<div>\n",
       "<style scoped>\n",
       "    .dataframe tbody tr th:only-of-type {\n",
       "        vertical-align: middle;\n",
       "    }\n",
       "\n",
       "    .dataframe tbody tr th {\n",
       "        vertical-align: top;\n",
       "    }\n",
       "\n",
       "    .dataframe thead th {\n",
       "        text-align: right;\n",
       "    }\n",
       "</style>\n",
       "<table border=\"1\" class=\"dataframe\">\n",
       "  <thead>\n",
       "    <tr style=\"text-align: right;\">\n",
       "      <th></th>\n",
       "      <th>threads</th>\n",
       "    </tr>\n",
       "  </thead>\n",
       "  <tbody>\n",
       "    <tr>\n",
       "      <th>0</th>\n",
       "      <td>30</td>\n",
       "    </tr>\n",
       "  </tbody>\n",
       "</table>\n",
       "</div>"
      ],
      "text/plain": [
       "   threads\n",
       "0       30"
      ]
     },
     "execution_count": 6,
     "metadata": {},
     "output_type": "execute_result"
    }
   ],
   "source": [
    "conn.sql(\"\"\"SELECT current_setting('threads') as threads;\"\"\").execute()"
   ]
  },
  {
   "cell_type": "code",
   "execution_count": 7,
   "id": "bd866eb2-6838-4fe7-914d-1af989f880d1",
   "metadata": {},
   "outputs": [
    {
     "data": {
      "text/plain": [
       "PosixPath('/hn01-home/cenv1007/../../soge-home/projects/mistral/DAFNI_NIRD/results')"
      ]
     },
     "execution_count": 7,
     "metadata": {},
     "output_type": "execute_result"
    }
   ],
   "source": [
    "base_path = Path(os.getcwd()) / '..' / \"..\"/ 'soge-home' / 'projects' / 'mistral' / 'DAFNI_NIRD' / 'results'\n",
    "base_path"
   ]
  },
  {
   "cell_type": "code",
   "execution_count": 8,
   "id": "4730fdff-9b4c-4912-acba-9be99a71d1a2",
   "metadata": {},
   "outputs": [],
   "source": [
    "def update_edge_speed(\n",
    "    table,\n",
    "    combined_label: str,\n",
    "    total_flow: float,\n",
    "    initial_flow_speed: float,\n",
    "    min_flow_speed: float,\n",
    "    breakpoint_flow: float,\n",
    "    ):\n",
    "    vp = total_flow / 24\n",
    "    return (\n",
    "        table\n",
    "        .mutate(\n",
    "            acc_speed = ib.least(\n",
    "            ib.cases(\n",
    "                ((combined_label == 'M') & (vp > breakpoint_flow), initial_flow_speed - 0.033 * (vp - breakpoint_flow)),\n",
    "                ((combined_label == 'A_single') & (vp > breakpoint_flow), initial_flow_speed - 0.05 * (vp - breakpoint_flow)),\n",
    "                ((combined_label == 'A_dual') & (vp > breakpoint_flow), initial_flow_speed - 0.033 * (vp - breakpoint_flow)),\n",
    "                ((combined_label == 'B') & (vp > breakpoint_flow), initial_flow_speed - 0.05 * (vp - breakpoint_flow)),\n",
    "                else_ = initial_flow_speed\n",
    "            ), min_flow_speed)\n",
    "        )\n",
    "    )\n",
    "\n",
    "def apply_recovery(\n",
    "    table,\n",
    "    recovery_rates_dict : dict,\n",
    "    day,\n",
    "    ):\n",
    "\n",
    "    event_day = bool(int(recovery_rates_dict[day].filter(_.damage_level=='event_day').recovery_rate.execute()[0]))\n",
    "    return (\n",
    "        table\n",
    "        .join(\n",
    "            recovery_rates_dict[day],\n",
    "            predicates = [_.damage_level == recovery_rates_dict[day].damage_level],\n",
    "            how='left',\n",
    "        )\n",
    "        .mutate(\n",
    "            acc_capacity = ib.cases(\n",
    "                (_.damage_level.isin(['extensive','severe']) & event_day, 0),\n",
    "                (_.damage_level_max=='no', _.current_capacity),\n",
    "                else_ = _.current_capacity*_.recovery_rate,\n",
    "            )\n",
    "        )\n",
    "    )\n",
    "\n"
   ]
  },
  {
   "cell_type": "code",
   "execution_count": 9,
   "id": "46b88061-3d2f-4b1b-a584-b508e33ce1c6",
   "metadata": {},
   "outputs": [],
   "source": [
    "od = conn.read_parquet(base_path / \"base_scenario\" / \"revision\" / \"odpfc_0.5_grouped.pq\")"
   ]
  },
  {
   "cell_type": "code",
   "execution_count": 10,
   "id": "47a3c0d0-6538-48f0-a44c-c9a958af00c2",
   "metadata": {},
   "outputs": [],
   "source": [
    "recovery_rates = pd.read_csv(base_path.parent / 'processed_data' / 'tables' / 'recovery design_updated.csv')\n",
    "recovery_rates_dict = {\n",
    "    key : (\n",
    "\n",
    "        conn.create_table(\n",
    "            f'bridge_recovery_dict_{key}',\n",
    "            obj=(pd.DataFrame(\n",
    "                data=[val]\n",
    "                # ,index = ['damage_level','recovery_rate']\n",
    "                )\n",
    "                .T\n",
    "                .reset_index(drop=False)\n",
    "                )\n",
    "                ,overwrite=True,\n",
    "        )\n",
    "        .rename({\"damage_level\" : \"col0\", 'recovery_rate' : 'col1' })\n",
    "\n",
    "\n",
    "    ) for key, val in recovery_rates.to_dict(orient='index').items()}\n",
    "\n"
   ]
  },
  {
   "cell_type": "code",
   "execution_count": 11,
   "id": "d8011056-b565-4775-a8b8-53271618895f",
   "metadata": {},
   "outputs": [],
   "source": [
    "import itertools\n",
    "import time"
   ]
  },
  {
   "cell_type": "code",
   "execution_count": 12,
   "id": "9c83f50f-2cee-4564-a3ee-317435ccd825",
   "metadata": {},
   "outputs": [],
   "source": [
    "scenarios = (itertools.product([60],[7,8,9,10,12,13,14,15,16,18,19],range(0,6))) "
   ]
  },
  {
   "cell_type": "code",
   "execution_count": null,
   "id": "95ba695d-6605-4c95-868e-7270afbda969",
   "metadata": {
    "scrolled": true
   },
   "outputs": [
    {
     "data": {
      "application/vnd.jupyter.widget-view+json": {
       "model_id": "a07ceec276f34800a2b0ac02f6a40a67",
       "version_major": 2,
       "version_minor": 0
      },
      "text/plain": [
       "FloatProgress(value=0.0, layout=Layout(width='auto'), style=ProgressStyle(bar_color='black'))"
      ]
     },
     "metadata": {},
     "output_type": "display_data"
    },
    {
     "data": {
      "application/vnd.jupyter.widget-view+json": {
       "model_id": "88a573fc469a45c88668e97c147e204f",
       "version_major": 2,
       "version_minor": 0
      },
      "text/plain": [
       "FloatProgress(value=0.0, layout=Layout(width='auto'), style=ProgressStyle(bar_color='black'))"
      ]
     },
     "metadata": {},
     "output_type": "display_data"
    },
    {
     "data": {
      "application/vnd.jupyter.widget-view+json": {
       "model_id": "fc7bd839f192422995d246d1da6854d2",
       "version_major": 2,
       "version_minor": 0
      },
      "text/plain": [
       "FloatProgress(value=0.0, layout=Layout(width='auto'), style=ProgressStyle(bar_color='black'))"
      ]
     },
     "metadata": {},
     "output_type": "display_data"
    },
    {
     "name": "stdout",
     "output_type": "stream",
     "text": [
      "time(sec): 264.01131677627563\n"
     ]
    },
    {
     "data": {
      "application/vnd.jupyter.widget-view+json": {
       "model_id": "415f1c42bbb9468a84c93cff0fc47994",
       "version_major": 2,
       "version_minor": 0
      },
      "text/plain": [
       "FloatProgress(value=0.0, layout=Layout(width='auto'), style=ProgressStyle(bar_color='black'))"
      ]
     },
     "metadata": {},
     "output_type": "display_data"
    },
    {
     "data": {
      "application/vnd.jupyter.widget-view+json": {
       "model_id": "a0655d5554f343fe892f9b0628c233dd",
       "version_major": 2,
       "version_minor": 0
      },
      "text/plain": [
       "FloatProgress(value=0.0, layout=Layout(width='auto'), style=ProgressStyle(bar_color='black'))"
      ]
     },
     "metadata": {},
     "output_type": "display_data"
    },
    {
     "data": {
      "application/vnd.jupyter.widget-view+json": {
       "model_id": "69de5871095a48859e3db4a46574cf0e",
       "version_major": 2,
       "version_minor": 0
      },
      "text/plain": [
       "FloatProgress(value=0.0, layout=Layout(width='auto'), style=ProgressStyle(bar_color='black'))"
      ]
     },
     "metadata": {},
     "output_type": "display_data"
    },
    {
     "name": "stdout",
     "output_type": "stream",
     "text": [
      "time(sec): 288.6630802154541\n"
     ]
    },
    {
     "data": {
      "application/vnd.jupyter.widget-view+json": {
       "model_id": "d1257e0122914871a168c02712dd153a",
       "version_major": 2,
       "version_minor": 0
      },
      "text/plain": [
       "FloatProgress(value=0.0, layout=Layout(width='auto'), style=ProgressStyle(bar_color='black'))"
      ]
     },
     "metadata": {},
     "output_type": "display_data"
    },
    {
     "data": {
      "application/vnd.jupyter.widget-view+json": {
       "model_id": "39b217bf5a814443a8cfdc6113da6fb8",
       "version_major": 2,
       "version_minor": 0
      },
      "text/plain": [
       "FloatProgress(value=0.0, layout=Layout(width='auto'), style=ProgressStyle(bar_color='black'))"
      ]
     },
     "metadata": {},
     "output_type": "display_data"
    },
    {
     "data": {
      "application/vnd.jupyter.widget-view+json": {
       "model_id": "55ea0e200a6947c2a7ddf0bd204dbd7e",
       "version_major": 2,
       "version_minor": 0
      },
      "text/plain": [
       "FloatProgress(value=0.0, layout=Layout(width='auto'), style=ProgressStyle(bar_color='black'))"
      ]
     },
     "metadata": {},
     "output_type": "display_data"
    },
    {
     "name": "stdout",
     "output_type": "stream",
     "text": [
      "time(sec): 316.6005425453186\n"
     ]
    },
    {
     "data": {
      "application/vnd.jupyter.widget-view+json": {
       "model_id": "65c90517701a4bd186de4e2de3f63e28",
       "version_major": 2,
       "version_minor": 0
      },
      "text/plain": [
       "FloatProgress(value=0.0, layout=Layout(width='auto'), style=ProgressStyle(bar_color='black'))"
      ]
     },
     "metadata": {},
     "output_type": "display_data"
    },
    {
     "data": {
      "application/vnd.jupyter.widget-view+json": {
       "model_id": "adb0c9ab123e4f0f85e9ec4e68e6a8fa",
       "version_major": 2,
       "version_minor": 0
      },
      "text/plain": [
       "FloatProgress(value=0.0, layout=Layout(width='auto'), style=ProgressStyle(bar_color='black'))"
      ]
     },
     "metadata": {},
     "output_type": "display_data"
    },
    {
     "data": {
      "application/vnd.jupyter.widget-view+json": {
       "model_id": "8742573f7a1b4c72a3e774925bbdef1f",
       "version_major": 2,
       "version_minor": 0
      },
      "text/plain": [
       "FloatProgress(value=0.0, layout=Layout(width='auto'), style=ProgressStyle(bar_color='black'))"
      ]
     },
     "metadata": {},
     "output_type": "display_data"
    },
    {
     "name": "stdout",
     "output_type": "stream",
     "text": [
      "time(sec): 304.3411138057709\n"
     ]
    },
    {
     "data": {
      "application/vnd.jupyter.widget-view+json": {
       "model_id": "ae0c71559f654565a216619c0bec7543",
       "version_major": 2,
       "version_minor": 0
      },
      "text/plain": [
       "FloatProgress(value=0.0, layout=Layout(width='auto'), style=ProgressStyle(bar_color='black'))"
      ]
     },
     "metadata": {},
     "output_type": "display_data"
    },
    {
     "data": {
      "application/vnd.jupyter.widget-view+json": {
       "model_id": "65c6af15398945ca9b3c94ca92625123",
       "version_major": 2,
       "version_minor": 0
      },
      "text/plain": [
       "FloatProgress(value=0.0, layout=Layout(width='auto'), style=ProgressStyle(bar_color='black'))"
      ]
     },
     "metadata": {},
     "output_type": "display_data"
    },
    {
     "data": {
      "application/vnd.jupyter.widget-view+json": {
       "model_id": "ba421f835b2d42659a22936a243301ae",
       "version_major": 2,
       "version_minor": 0
      },
      "text/plain": [
       "FloatProgress(value=0.0, layout=Layout(width='auto'), style=ProgressStyle(bar_color='black'))"
      ]
     },
     "metadata": {},
     "output_type": "display_data"
    },
    {
     "name": "stdout",
     "output_type": "stream",
     "text": [
      "time(sec): 328.2886230945587\n"
     ]
    }
   ],
   "source": [
    "for depth, event, day in scenarios: \n",
    "    start = time.time()\n",
    "    road_links = conn.read_parquet(base_path/ 'disruption_analysis'/ 'revision' / f'{depth}'/ 'links' / f'road_links_{event}.gpq')\n",
    "    \n",
    "    road_links = (\n",
    "        road_links\n",
    "        .mutate(\n",
    "                breakpoint_flows = _.combined_label.cases(\n",
    "                    ('M', 1200),\n",
    "                    ('A_dual', 1080),\n",
    "                    ('A_single', 1200),\n",
    "                    ('B', 1200)\n",
    "            ))\n",
    "    )\n",
    "    \n",
    "    \n",
    "    disrupted_links = (\n",
    "        road_links\n",
    "        .filter(\n",
    "            ib.or_(\n",
    "                _.max_speed < _.current_speed,\n",
    "                _.damage_level_max.isin(['extensive', 'severe'])\n",
    "            )\n",
    "        )\n",
    "        .select('e_id')\n",
    "        .distinct()\n",
    "        .execute()['e_id']\n",
    "        .tolist()\n",
    "    )\n",
    "    \n",
    "    ## Applying recovery (update road link capacities)\n",
    "    cols = road_links.columns\n",
    "    road_links = (\n",
    "        road_links\n",
    "        .mutate(acc_capacity = _.current_capacity)  \n",
    "        .mutate(damage_level = _.road_label + '_' + _.damage_level_max)\n",
    "        .pipe(apply_recovery, recovery_rates_dict = recovery_rates_dict, day = day)\n",
    "        .select(*cols, 'acc_capacity')\n",
    "    )\n",
    "    \n",
    "    \n",
    "    recovery_links = road_links.select('e_id', 'acc_capacity')\n",
    "    \n",
    "    od_disrupted = (\n",
    "         od\n",
    "        .select('path','origin_node','destination_node')\n",
    "        .mutate(\n",
    "            od_id = _.origin_node.concat(\":\",_.destination_node)\n",
    "        )\n",
    "        .unnest('path')\n",
    "        .group_by('path')\n",
    "        .agg(\n",
    "            od_id = _.od_id.collect()\n",
    "        ) \n",
    "        .join(\n",
    "            recovery_links,\n",
    "            predicates = [_.path == recovery_links.e_id],\n",
    "            how='left',\n",
    "        )\n",
    "        .filter(_.path.isin(disrupted_links))\n",
    "        .unnest('od_id')\n",
    "        .group_by('od_id')\n",
    "        .agg(\n",
    "            disrupted_links=_.path.collect(),\n",
    "            min_link_capacity=_.acc_capacity.min()\n",
    "        )\n",
    "        .mutate(\n",
    "            origin_node = _.od_id.re_split(\":\")[0],\n",
    "            destination_node = _.od_id.re_split(\":\")[1],\n",
    "        )\n",
    "        .select('origin_node','destination_node','disrupted_links', 'min_link_capacity')\n",
    "        .join(\n",
    "            od,\n",
    "            predicates=['origin_node','destination_node'],\n",
    "            how='inner',\n",
    "        )\n",
    "    ).cache()\n",
    "    \n",
    "    ## Initialise key variables for flow simulation \n",
    "    \n",
    "    \n",
    "    links =(\n",
    "        od_disrupted\n",
    "        .mutate(disrupted_flows = ib.greatest(_.flow - _.min_link_capacity, 0))\n",
    "        .unnest('path')    \n",
    "        .group_by('path')\n",
    "        .agg(\n",
    "            disrupted_flows=_.disrupted_flows.sum()\n",
    "        )\n",
    "        .join(\n",
    "            road_links, \n",
    "            predicates = [_.path == road_links.e_id],\n",
    "            how = 'right'\n",
    "        )\n",
    "        .mutate(\n",
    "            disrupted_flows = ib.cases(\n",
    "            (_.disrupted_flows.isnull(), 0), # if null, link is not disrupted!\n",
    "            else_ = _.disrupted_flows)\n",
    "        )\n",
    "        .mutate\n",
    "        (\n",
    "            acc_capacity = _.acc_capacity + _.disrupted_flows,\n",
    "            acc_flow = _.current_flow - _.disrupted_flows\n",
    "        )\n",
    "        .pipe(\n",
    "            update_edge_speed, \n",
    "            combined_label = _.combined_label,\n",
    "            total_flow = _.acc_flow,\n",
    "            initial_flow_speed = _.initial_flow_speeds,\n",
    "            min_flow_speed = _.min_flow_speeds,\n",
    "            breakpoint_flow = _.breakpoint_flows\n",
    "        )\n",
    "        .select(*road_links.columns, \"acc_flow\", \"acc_speed\")\n",
    "    )\n",
    "    \n",
    "    ## Export to parquet files\n",
    "    od_disrupted.to_parquet(base_path/ 'disruption_analysis'/ 'revision' / 'ibis_results'/ f'disrupted_od_depth{depth}_event{event}_day{day}.pq', compression = \"ZSTD\")\n",
    "    links.to_parquet(base_path / 'disruption_analysis' / 'revision' / 'ibis_results' / f'road_links_depth{depth}_event{event}_day{day}.gpq', compression = \"ZSTD\")\n",
    "    print(f\"time(sec): {(time.time() - start)}\")"
   ]
  }
 ],
 "metadata": {
  "kernelspec": {
   "display_name": "skmob",
   "language": "python",
   "name": "skmob"
  },
  "language_info": {
   "codemirror_mode": {
    "name": "ipython",
    "version": 3
   },
   "file_extension": ".py",
   "mimetype": "text/x-python",
   "name": "python",
   "nbconvert_exporter": "python",
   "pygments_lexer": "ipython3",
   "version": "3.12.8"
  }
 },
 "nbformat": 4,
 "nbformat_minor": 5
}

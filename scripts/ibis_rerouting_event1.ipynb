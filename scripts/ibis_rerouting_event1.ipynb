{
 "cells": [
  {
   "cell_type": "code",
   "execution_count": 1,
   "id": "0aed4386-58ab-4fc4-84c6-a552978abff6",
   "metadata": {},
   "outputs": [],
   "source": [
    "from pathlib import Path\n",
    "import pandas as pd\n",
    "import numpy as np\n",
    "import warnings\n",
    "from tqdm import tqdm\n",
    "import logging\n",
    "import ibis as ib\n",
    "import geopandas as gpd\n",
    "import nird.road_revised as func\n",
    "from nird.utils import load_config\n",
    "import json\n",
    "\n",
    "ib.options.interactive = True\n",
    "\n",
    "base_path = Path(load_config()['paths']['soge_clusters'])\n",
    "warnings.simplefilter('ignore')\n",
    "tqdm.pandas()"
   ]
  },
  {
   "cell_type": "code",
   "execution_count": 10,
   "id": "f6c905a6-5387-426f-8831-e379671681d9",
   "metadata": {},
   "outputs": [
    {
     "data": {
      "text/plain": [
       "PosixPath('/soge-home/projects/mistral/DAFNI_NIRD/processed_data')"
      ]
     },
     "execution_count": 10,
     "metadata": {},
     "output_type": "execute_result"
    }
   ],
   "source": [
    "base_path"
   ]
  },
  {
   "cell_type": "code",
   "execution_count": 4,
   "id": "80a0eed3-ac5a-41d3-b1db-473b66f069e8",
   "metadata": {},
   "outputs": [],
   "source": [
    "# disrupted_od = ib.read_parquet(base_path.parent / \"results\" / \"disruption_analysis\" / \"revision\" / \"ibis_results\" / \"disrupted_od_depth15_event5_day0.pq\")"
   ]
  },
  {
   "cell_type": "code",
   "execution_count": 15,
   "id": "aadd4644-cab9-41a5-abd6-43788ee65171",
   "metadata": {},
   "outputs": [
    {
     "name": "stderr",
     "output_type": "stream",
     "text": [
      "2025-09-18 11:10:11,097 1951255 2178983545.py Loading inputs...\n",
      "2025-09-18 11:10:23,588 1951255 2178983545.py Creating network...\n",
      "2025-09-18 11:11:46,734 1951255 2178983545.py Running flow simulation...\n",
      "2025-09-18 11:11:46,737 1951255 2178983545.py The total disrupted flow is: 380367\n",
      "2025-09-18 11:11:46,753 1951255 road_revised.py The initial supply is 380367\n",
      "2025-09-18 11:11:46,949 1951255 road_revised.py The initial number of edges in the network: 501468\n",
      "2025-09-18 11:11:46,981 1951255 road_revised.py The initial number of origins: 52215\n",
      "2025-09-18 11:11:47,008 1951255 road_revised.py The initial number of destinations: 34122\n",
      "2025-09-18 11:11:47,010 1951255 road_revised.py No.1 iteration starts:\n",
      "2025-09-18 11:11:47,625 1951255 road_revised.py Initial isolated flows: 13117\n",
      "Creating argument list: 100%|██████████| 51274/51274 [06:38<00:00, 128.74it/s]\n",
      "2025-09-18 11:18:34,967 1951255 road_revised.py Completed 0 of 51274, 0.00%\n",
      "2025-09-18 11:25:16,544 1951255 road_revised.py Completed 10000 of 51274, 19.50%\n",
      "2025-09-18 11:30:48,527 1951255 road_revised.py Completed 20000 of 51274, 39.01%\n",
      "2025-09-18 11:35:40,651 1951255 road_revised.py Completed 30000 of 51274, 58.51%\n",
      "2025-09-18 11:40:41,505 1951255 road_revised.py Completed 40000 of 51274, 78.01%\n",
      "2025-09-18 11:45:12,181 1951255 road_revised.py Completed 50000 of 51274, 97.52%\n",
      "2025-09-18 11:45:48,951 1951255 road_revised.py The least-cost path flow allocation time: 1642.0250618457794.\n",
      "2025-09-18 11:45:49,715 1951255 road_revised.py Non_allocated_flow: 40213\n",
      "2025-09-18 11:45:49,731 1951255 road_revised.py Calculating edge flows...\n",
      "2025-09-18 11:45:49,733 1951255 road_revised.py Size of temp_flow_matrix is: 227029\n",
      "Processing chunks:: 100%|██████████| 101/101 [03:23<00:00,  2.01s/chunk]\n",
      "2025-09-18 11:49:15,441 1951255 road_revised.py The minimum r value is: 1.8973541967939438.\n",
      "2025-09-18 11:49:15,540 1951255 road_revised.py Low saturation trips isolated: 0.0\n"
     ]
    },
    {
     "name": "stdout",
     "output_type": "stream",
     "text": [
      "No low saturation edges found.\n"
     ]
    },
    {
     "name": "stderr",
     "output_type": "stream",
     "text": [
      "2025-09-18 11:49:16,707 1951255 road_revised.py Updating edge speeds: \n",
      "100%|██████████| 501468/501468 [00:06<00:00, 79526.44it/s]\n",
      "2025-09-18 11:49:23,454 1951255 road_revised.py The total remain flow (after adjustment) is: 88.0.\n",
      "2025-09-18 11:49:23,471 1951255 road_revised.py Stop: 99.97370328128011% of flows (exc. isolations) have been allocated and there is no edge overflow!\n",
      "2025-09-18 11:49:23,652 1951255 road_revised.py The flow simulation is completed!\n",
      "2025-09-18 11:49:23,654 1951255 road_revised.py total travel cost is (£): 678144797.0722806\n",
      "2025-09-18 11:49:23,655 1951255 road_revised.py total time-equiv cost is (£): 671456218.8363543\n",
      "2025-09-18 11:49:23,655 1951255 road_revised.py total operating cost is (£): 6220222.835926468\n",
      "2025-09-18 11:49:23,656 1951255 road_revised.py total toll cost is (£): 468355.4\n",
      "2025-09-18 11:49:26,213 1951255 2178983545.py The total pre-event cost: £ million 6.625471997316818\n",
      "2025-09-18 11:49:26,220 1951255 2178983545.py The total after-event cost: £ million 678.1447970722807\n",
      "2025-09-18 11:49:26,221 1951255 2178983545.py The rerouting cost for depth15-event1-scenario0: £671519325.0749638\n",
      "2025-09-18 11:49:26,222 1951255 2178983545.py Saving results to disk...\n"
     ]
    },
    {
     "ename": "NameError",
     "evalue": "name 'cDict' is not defined",
     "output_type": "error",
     "traceback": [
      "\u001b[0;31m---------------------------------------------------------------------------\u001b[0m",
      "\u001b[0;31mNameError\u001b[0m                                 Traceback (most recent call last)",
      "Cell \u001b[0;32mIn[15], line 81\u001b[0m\n\u001b[1;32m     77\u001b[0m \u001b[38;5;28;01mif\u001b[39;00m \u001b[38;5;18m__name__\u001b[39m \u001b[38;5;241m==\u001b[39m \u001b[38;5;124m\"\u001b[39m\u001b[38;5;124m__main__\u001b[39m\u001b[38;5;124m\"\u001b[39m:\n\u001b[1;32m     78\u001b[0m     logging\u001b[38;5;241m.\u001b[39mbasicConfig(\n\u001b[1;32m     79\u001b[0m         \u001b[38;5;28mformat\u001b[39m\u001b[38;5;241m=\u001b[39m\u001b[38;5;124m\"\u001b[39m\u001b[38;5;132;01m%(asctime)s\u001b[39;00m\u001b[38;5;124m \u001b[39m\u001b[38;5;132;01m%(process)d\u001b[39;00m\u001b[38;5;124m \u001b[39m\u001b[38;5;132;01m%(filename)s\u001b[39;00m\u001b[38;5;124m \u001b[39m\u001b[38;5;132;01m%(message)s\u001b[39;00m\u001b[38;5;124m\"\u001b[39m, level\u001b[38;5;241m=\u001b[39mlogging\u001b[38;5;241m.\u001b[39mINFO\n\u001b[1;32m     80\u001b[0m     )\n\u001b[0;32m---> 81\u001b[0m     \u001b[43mmain\u001b[49m\u001b[43m(\u001b[49m\u001b[43mdepth_key\u001b[49m\u001b[43m \u001b[49m\u001b[38;5;241;43m=\u001b[39;49m\u001b[38;5;241;43m15\u001b[39;49m\u001b[43m,\u001b[49m\u001b[43m \u001b[49m\u001b[43mevent_key\u001b[49m\u001b[38;5;241;43m=\u001b[39;49m\u001b[38;5;241;43m1\u001b[39;49m\u001b[43m,\u001b[49m\u001b[43m \u001b[49m\u001b[43mnumber_of_cpu\u001b[49m\u001b[38;5;241;43m=\u001b[39;49m\u001b[38;5;241;43m20\u001b[39;49m\u001b[43m)\u001b[49m\n",
      "Cell \u001b[0;32mIn[15], line 72\u001b[0m, in \u001b[0;36mmain\u001b[0;34m(depth_key, event_key, number_of_cpu)\u001b[0m\n\u001b[1;32m     69\u001b[0m     \u001b[38;5;28;01mdel\u001b[39;00m disrupted_od\n\u001b[1;32m     71\u001b[0m \u001b[38;5;66;03m# rerouting costs over all scenarios (days)\u001b[39;00m\n\u001b[0;32m---> 72\u001b[0m \u001b[43mcDict\u001b[49m[day] \u001b[38;5;241m=\u001b[39m rerouting_cost\n\u001b[1;32m     73\u001b[0m cost_df \u001b[38;5;241m=\u001b[39m pd\u001b[38;5;241m.\u001b[39mDataFrame\u001b[38;5;241m.\u001b[39mfrom_dict(cDict, orient\u001b[38;5;241m=\u001b[39m\u001b[38;5;124m\"\u001b[39m\u001b[38;5;124mindex\u001b[39m\u001b[38;5;124m\"\u001b[39m, columns\u001b[38;5;241m=\u001b[39m[\u001b[38;5;124m\"\u001b[39m\u001b[38;5;124mrerouting_cost\u001b[39m\u001b[38;5;124m\"\u001b[39m])\u001b[38;5;241m.\u001b[39mreset_index()\n\u001b[1;32m     74\u001b[0m cost_df\u001b[38;5;241m.\u001b[39mrename(columns \u001b[38;5;241m=\u001b[39m {\u001b[38;5;124m\"\u001b[39m\u001b[38;5;124mindex\u001b[39m\u001b[38;5;124m\"\u001b[39m: \u001b[38;5;124m\"\u001b[39m\u001b[38;5;124mscenario\u001b[39m\u001b[38;5;124m\"\u001b[39m}, inplace \u001b[38;5;241m=\u001b[39m\u001b[38;5;28;01mTrue\u001b[39;00m)\n",
      "\u001b[0;31mNameError\u001b[0m: name 'cDict' is not defined"
     ]
    }
   ],
   "source": [
    "def main(\n",
    "    depth_key,\n",
    "    event_key,\n",
    "    number_of_cpu,\n",
    "):\n",
    "    # Load network parameters\n",
    "    with open(base_path / \"parameters\" / \"flow_breakpoint_dict.json\", \"r\") as f:\n",
    "        flow_breakpoint_dict = json.load(f)\n",
    "        \n",
    "    for day in range(0, 1): # 0-12\n",
    "        logging.info(\"Loading inputs...\")\n",
    "        road_links = ib.read_parquet(base_path.parent / \"results\" / \"disruption_analysis\" / \"revision\" / \"ibis_results\" / f\"road_links_depth{depth_key}_event{event_key}_day{day}.gpq\")\n",
    "        road_links = road_links.cast({'geometry' : 'GEOMETRY'}).execute().set_geometry('geometry').set_crs('epsg:27700')\n",
    "        if day == 0: # event_day\n",
    "            road_links['acc_speed'] = road_links[['acc_speed', 'max_speed']].min(axis=1) \n",
    "        disrupted_od = pd.read_parquet(base_path.parent / \"results\" / \"disruption_analysis\" / \"revision\" / \"ibis_results\" / f\"disrupted_od_depth{depth_key}_event{event_key}_day{day}.pq\")\n",
    "        disrupted_od.flow = disrupted_od.flow.fillna(0)\n",
    "        disrupted_od[\"Car21\"] = (disrupted_od.flow - disrupted_od.min_link_capacity).clip(lower=0)\n",
    "        disrupted_od.Car21 = disrupted_od.Car21.round(0).astype(int)\n",
    "        \n",
    "        total_cost = (\n",
    "            disrupted_od.Car21 * \n",
    "            (\n",
    "                disrupted_od.operating_cost_per_flow +\n",
    "                disrupted_od.time_cost_per_flow +\n",
    "                disrupted_od.toll_cost_per_flow\n",
    "            )\n",
    "        ).sum()\n",
    "        \n",
    "        logging.info(\"Creating network...\")\n",
    "        valid_road_links = road_links[(road_links.acc_capacity > 0) & (road_links.acc_speed >0)].reset_index(drop=True)\n",
    "        network, valid_road_links = func.create_igraph_network(valid_road_links)\n",
    "\n",
    "        logging.info(\"Running flow simulation...\")\n",
    "        logging.info(f\"The total disrupted flow is: {disrupted_od.Car21.sum()}\")\n",
    "        valid_road_links, isolation, _, (_,_,_,total_cost2) = func.network_flow_model(\n",
    "            valid_road_links,\n",
    "            network,\n",
    "            disrupted_od[[\"origin_node\", \"destination_node\", \"Car21\"]],\n",
    "            flow_breakpoint_dict,\n",
    "            num_of_cpu = number_of_cpu,\n",
    "        )\n",
    "        logging.info(f\"The total pre-event cost: £ million {total_cost/1e6}\")\n",
    "        logging.info(f\"The total after-event cost: £ million {total_cost2/1e6}\")\n",
    "        rerouting_cost = total_cost2 - total_cost\n",
    "        logging.info(f\"The rerouting cost for depth{depth_key}-event{event_key}-scenario{day}: £{rerouting_cost}\")\n",
    "        logging.info(\"Saving results to disk...\")\n",
    "        out_path = (\n",
    "            base_path.parent\n",
    "            / \"results\"\n",
    "            / \"rerouting_analysis\"\n",
    "            / \"revision\"\n",
    "            / str(depth_key)  # e.g.,30\n",
    "            / str(event_key)  # e.g.,17\n",
    "        )\n",
    "        out_path.mkdir(parents=True, exist_ok=True)\n",
    "        # isolations\n",
    "        isolation_df = pd.DataFrame(isolation, columns = [\"origin_node\", \"destination_node\", \"Car21\"])\n",
    "        isolation_df.to_csv(out_path / f\"trip_isolations_{day}.csv\", index=False)\n",
    "        # edge flows\n",
    "        road_links = road_links.set_index(\"e_id\")\n",
    "        road_links.update(valid_road_links.set_index(\"e_id\")[\"acc_flow\"])\n",
    "        road_links.reset_index(drop = True, inplace = True)\n",
    "        road_links[\"change_flow\"] = road_links.acc_flow - road_links.current_flow\n",
    "        road_links.to_parquet(out_path / f\"edge_flows_{day}.gpq\", engine=\"pyarrow\")\n",
    "\n",
    "        del valid_road_links\n",
    "        del road_links\n",
    "        del disrupted_od\n",
    "    \n",
    "    # rerouting costs over all scenarios (days)\n",
    "    cDict[day] = rerouting_cost\n",
    "    cost_df = pd.DataFrame.from_dict(cDict, orient=\"index\", columns=[\"rerouting_cost\"]).reset_index()\n",
    "    cost_df.rename(columns = {\"index\": \"scenario\"}, inplace =True)\n",
    "    cost_df.to_csv(out_path / \"rerouting_cost.csv\", index=False)\n",
    "\n",
    "if __name__ == \"__main__\":\n",
    "    logging.basicConfig(\n",
    "        format=\"%(asctime)s %(process)d %(filename)s %(message)s\", level=logging.INFO\n",
    "    )\n",
    "    main(depth_key =15, event_key=1, number_of_cpu=20)"
   ]
  },
  {
   "cell_type": "code",
   "execution_count": null,
   "id": "408cf537-c548-46d9-b3f0-5285e6cac2eb",
   "metadata": {},
   "outputs": [],
   "source": []
  }
 ],
 "metadata": {
  "kernelspec": {
   "display_name": "skmob",
   "language": "python",
   "name": "skmob"
  },
  "language_info": {
   "codemirror_mode": {
    "name": "ipython",
    "version": 3
   },
   "file_extension": ".py",
   "mimetype": "text/x-python",
   "name": "python",
   "nbconvert_exporter": "python",
   "pygments_lexer": "ipython3",
   "version": "3.12.8"
  }
 },
 "nbformat": 4,
 "nbformat_minor": 5
}
